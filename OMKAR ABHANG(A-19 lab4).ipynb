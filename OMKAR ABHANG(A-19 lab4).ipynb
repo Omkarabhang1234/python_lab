{
 "cells": [
  {
   "cell_type": "code",
   "execution_count": 1,
   "id": "b8bac326",
   "metadata": {},
   "outputs": [
    {
     "name": "stdout",
     "output_type": "stream",
     "text": [
      "Enter a number:5\n",
      "Enter another number:4\n",
      "5 is a greater number\n"
     ]
    }
   ],
   "source": [
    "#IF-ELSE STATEMENT\n",
    "a=int(input(\"Enter a number:\"))\n",
    "b=int(input(\"Enter another number:\"))\n",
    "if a>b:\n",
    "    print(a,\"is a greater number\")\n",
    "else:\n",
    "    print(b,\"is a greater number\")"
   ]
  },
  {
   "cell_type": "code",
   "execution_count": 2,
   "id": "8ad2987f",
   "metadata": {},
   "outputs": [
    {
     "name": "stdout",
     "output_type": "stream",
     "text": [
      "Enter your age:14\n",
      "You are not eligible to Vote\n",
      "There are 4 years left to be eligible to vote\n"
     ]
    }
   ],
   "source": [
    "#CHECK ELIGIBILITY\n",
    "a=int(input(\"Enter your age:\"))\n",
    "if a>18:\n",
    "    print(\"You are eligible to Vote\")\n",
    "else:\n",
    "    print(\"You are not eligible to Vote\")\n",
    "left=18-a\n",
    "print(f\"There are {left} years left to be eligible to vote\")"
   ]
  },
  {
   "cell_type": "code",
   "execution_count": 3,
   "id": "ea7374ce",
   "metadata": {},
   "outputs": [
    {
     "name": "stdout",
     "output_type": "stream",
     "text": [
      "Enter 1st number45\n",
      "Enter 2nd number87\n",
      "Enter 3rd number13\n",
      "87 is the greatest number\n"
     ]
    }
   ],
   "source": [
    "#IF-ELIF-ELSE STATEMENT\n",
    "a=int(input(\"Enter 1st number\"))\n",
    "b=int(input(\"Enter 2nd number\"))\n",
    "c=int(input(\"Enter 3rd number\"))\n",
    "if a>b and a>c:\n",
    "    print(a,\"is the greatest number\")\n",
    "elif b>a and b>c:\n",
    "    print(b,\"is the greatest number\")\n",
    "else:\n",
    "    print(c,\"is the greatest number\")\n"
   ]
  },
  {
   "cell_type": "code",
   "execution_count": 4,
   "id": "fbfd6547",
   "metadata": {},
   "outputs": [
    {
     "name": "stdout",
     "output_type": "stream",
     "text": [
      "Enter a number:12\n",
      "12 ranges between 10 to 20\n"
     ]
    }
   ],
   "source": [
    "#COMPOUND STATEMENT\n",
    "a=int(input(\"Enter a number:\"))\n",
    "if a<=10:\n",
    "    print(a,\"ranges between 0 to 10\")\n",
    "if a>0 and a<=20:\n",
    "    print(a,\"ranges between 10 to 20\")    \n",
    "if a>20 and a<=30:\n",
    "    print(a,\"ranges between 20 to 30\")    \n",
    "if a>30:\n",
    "    print(a,\"ranges above 30\")"
   ]
  },
  {
   "cell_type": "code",
   "execution_count": 10,
   "id": "685d4661",
   "metadata": {},
   "outputs": [
    {
     "name": "stdout",
     "output_type": "stream",
     "text": [
      "Enter num1:45\n",
      "Enter num2:15\n",
      "Enter num3:55\n",
      "55 is the greatest\n"
     ]
    }
   ],
   "source": [
    "#NESTED-IF\n",
    "num1=int(input(\"Enter num1:\"))\n",
    "num2=int(input(\"Enter num2:\"))\n",
    "num3=int(input(\"Enter num3:\"))\n",
    "if (num1>num2):\n",
    "    if (num1>num3):\n",
    "        print(num1,\"is the greatest\")\n",
    "    else:\n",
    "        print(num3,\"is the greatest\")\n",
    "\n",
    "elif (num2>num3):\n",
    "    print(num2,\"is the greatest\")\n",
    "\n",
    "else:\n",
    "    print(\"All numbers are same\")"
   ]
  },
  {
   "cell_type": "code",
   "execution_count": 2,
   "id": "8714b92a",
   "metadata": {},
   "outputs": [
    {
     "name": "stdout",
     "output_type": "stream",
     "text": [
      "0\n",
      "1\n",
      "2\n",
      "3\n",
      "4\n",
      "5\n",
      "6\n",
      "7\n",
      "8\n",
      "9\n",
      "10\n"
     ]
    }
   ],
   "source": [
    "#WHILE LOOP\n",
    "i=0\n",
    "while(i<=10):\n",
    "    print(i)\n",
    "    i+=1"
   ]
  }
 ],
 "metadata": {
  "kernelspec": {
   "display_name": "Python 3 (ipykernel)",
   "language": "python",
   "name": "python3"
  },
  "language_info": {
   "codemirror_mode": {
    "name": "ipython",
    "version": 3
   },
   "file_extension": ".py",
   "mimetype": "text/x-python",
   "name": "python",
   "nbconvert_exporter": "python",
   "pygments_lexer": "ipython3",
   "version": "3.12.3"
  }
 },
 "nbformat": 4,
 "nbformat_minor": 5
}
