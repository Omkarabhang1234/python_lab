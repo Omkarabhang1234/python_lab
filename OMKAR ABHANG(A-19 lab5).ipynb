{
 "cells": [
  {
   "cell_type": "code",
   "execution_count": 1,
   "id": "85700d9e",
   "metadata": {},
   "outputs": [
    {
     "name": "stdout",
     "output_type": "stream",
     "text": [
      "Element 9 found at index 4\n"
     ]
    }
   ],
   "source": [
    "#LINEAR SEARCH ALGORITHM\n",
    "arr=[4,2,7,1,9,3,5]\n",
    "target=9\n",
    "found=False\n",
    "for i in range(len(arr)):\n",
    "    if arr[i]==target:\n",
    "        print(f\"Element {target} found at index {i}\")\n",
    "        found=True\n",
    "        break\n",
    "else:\n",
    "    print(F\"Element {target} is not in array\")"
   ]
  },
  {
   "cell_type": "code",
   "execution_count": 2,
   "id": "221aeb16",
   "metadata": {},
   "outputs": [
    {
     "name": "stdout",
     "output_type": "stream",
     "text": [
      "Enter number of elements:5\n",
      "1\n",
      "4\n",
      "6\n",
      "8\n",
      "43\n",
      "List: [1, 4, 6, 8, 43]\n",
      "Enter the target:3\n",
      "Element 3 is not in array\n"
     ]
    }
   ],
   "source": [
    "#WITH USER INPUT\n",
    "lst=[]\n",
    "n=int(input(\"Enter number of elements:\"))\n",
    "for j in range(0,n):\n",
    "    element=int(input())\n",
    "    lst.append(element)\n",
    "print(\"List:\",lst)\n",
    "target=int(input(\"Enter the target:\"))\n",
    "found=False\n",
    "\n",
    "for i in range(len(lst)):\n",
    "    if lst[i]==target:\n",
    "        print(f\"Element {target} found at index {i}\")\n",
    "        found=True\n",
    "        break\n",
    "else:\n",
    "    print(F\"Element {target} is not in array\")\n"
   ]
  },
  {
   "cell_type": "code",
   "execution_count": 3,
   "id": "1e8e9c50",
   "metadata": {},
   "outputs": [
    {
     "name": "stdout",
     "output_type": "stream",
     "text": [
      "Element 2 is not in array\n"
     ]
    }
   ],
   "source": [
    "#BINARY SEARCH ALGORITHM\n",
    "arr=[1,3,5,7,9,11,13,15,17,19]\n",
    "low=0\n",
    "high=len(arr)-1\n",
    "target=2\n",
    "found=False\n",
    "\n",
    "while(low<=high):\n",
    "    mid=(low+high)//2\n",
    "    if arr[mid]==target:\n",
    "        print(f\"Element {target} is found at index {mid}\")\n",
    "        break\n",
    "    elif arr[mid]<target:\n",
    "        low=mid+1\n",
    "    else:\n",
    "        high=mid-1\n",
    "else:\n",
    "    print(f\"Element {target} is not in array\")\n"
   ]
  }
 ],
 "metadata": {
  "kernelspec": {
   "display_name": "Python 3 (ipykernel)",
   "language": "python",
   "name": "python3"
  },
  "language_info": {
   "codemirror_mode": {
    "name": "ipython",
    "version": 3
   },
   "file_extension": ".py",
   "mimetype": "text/x-python",
   "name": "python",
   "nbconvert_exporter": "python",
   "pygments_lexer": "ipython3",
   "version": "3.12.3"
  }
 },
 "nbformat": 4,
 "nbformat_minor": 5
}
