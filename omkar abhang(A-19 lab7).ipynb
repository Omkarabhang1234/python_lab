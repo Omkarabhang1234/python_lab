{
 "cells": [
  {
   "cell_type": "code",
   "execution_count": 1,
   "id": "573aaa8a",
   "metadata": {},
   "outputs": [
    {
     "name": "stdout",
     "output_type": "stream",
     "text": [
      "1.26.4\n"
     ]
    }
   ],
   "source": [
    "#To Check version of numpy\n",
    "import numpy as np\n",
    "print(np.__version__)"
   ]
  },
  {
   "cell_type": "code",
   "execution_count": 2,
   "id": "3f2b1ce6",
   "metadata": {},
   "outputs": [
    {
     "name": "stdout",
     "output_type": "stream",
     "text": [
      "True\n",
      "False\n"
     ]
    }
   ],
   "source": [
    "#To Find any non-zero elements in an array\n",
    "import numpy as np\n",
    "x=np.array([1,0,0,0])\n",
    "print(np.any(x))\n",
    "y=np.array([0,0,0,0])\n",
    "print(np.any(y))"
   ]
  },
  {
   "cell_type": "code",
   "execution_count": 3,
   "id": "0cd8b094",
   "metadata": {},
   "outputs": [
    {
     "name": "stdout",
     "output_type": "stream",
     "text": [
      "[ 1.  0. nan inf]\n",
      "Test the finiteness of elements of an array:\n",
      "[ True  True False False]\n"
     ]
    }
   ],
   "source": [
    "#To Find Finiteness of an array\n",
    "import numpy as np\n",
    "x=np.array([1,0,np.nan,np.inf])\n",
    "print(x)\n",
    "print(\"Test the finiteness of elements of an array:\")\n",
    "print(np.isfinite(x))\n"
   ]
  },
  {
   "cell_type": "code",
   "execution_count": 4,
   "id": "236505f2",
   "metadata": {},
   "outputs": [
    {
     "name": "stdout",
     "output_type": "stream",
     "text": [
      "[False False  True False False False]\n",
      "[False False False  True False False]\n"
     ]
    }
   ],
   "source": [
    "#To Test element-wise positive or negative infinity\n",
    "import numpy as np\n",
    "x=np.array([1,-2,np.inf,-np.inf,0,3.5])\n",
    "result_posinf=np.isposinf(x)\n",
    "result_neginf=np.isneginf(x)\n",
    "print(result_posinf)\n",
    "print(result_neginf)"
   ]
  },
  {
   "cell_type": "code",
   "execution_count": 5,
   "id": "e50fdcab",
   "metadata": {},
   "outputs": [
    {
     "name": "stdout",
     "output_type": "stream",
     "text": [
      "[30 31 32 33 34 35 36 37 38 39 40 41 42 43 44 45 46 47 48 49 50 51 52 53\n",
      " 54 55 56 57 58 59 60 61 62 63 64 65 66 67 68 69 70]\n"
     ]
    }
   ],
   "source": [
    "#To print an array in a range\n",
    "import numpy as np\n",
    "arr=np.arange(30,71)\n",
    "print(arr)"
   ]
  },
  {
   "cell_type": "code",
   "execution_count": 6,
   "id": "30b78cf4",
   "metadata": {},
   "outputs": [
    {
     "name": "stdout",
     "output_type": "stream",
     "text": [
      "[30 32 34 36 38 40 42 44 46 48 50 52 54 56 58 60 62 64 66 68 70]\n"
     ]
    }
   ],
   "source": [
    "#To print an array of even numbers in a range \n",
    "import numpy as np\n",
    "arr=np.arange(30,71,2)\n",
    "print(arr)"
   ]
  },
  {
   "cell_type": "code",
   "execution_count": 7,
   "id": "7954b7ae",
   "metadata": {},
   "outputs": [
    {
     "name": "stdout",
     "output_type": "stream",
     "text": [
      "[[1. 0. 0.]\n",
      " [0. 1. 0.]\n",
      " [0. 0. 1.]]\n"
     ]
    }
   ],
   "source": [
    "#To print a 3x3 identity matrix \n",
    "import numpy as np\n",
    "arr=np.identity(3)\n",
    "print(arr)"
   ]
  },
  {
   "cell_type": "code",
   "execution_count": 8,
   "id": "2b7f3400",
   "metadata": {},
   "outputs": [
    {
     "name": "stdout",
     "output_type": "stream",
     "text": [
      "[[1 0 0 0 0]\n",
      " [0 2 0 0 0]\n",
      " [0 0 3 0 0]\n",
      " [0 0 0 4 0]\n",
      " [0 0 0 0 5]]\n"
     ]
    }
   ],
   "source": [
    "#To create a 5x5 diagonal matrix\n",
    "import numpy as np\n",
    "arr=np.diag([1,2,3,4,5])\n",
    "print(arr)"
   ]
  },
  {
   "cell_type": "code",
   "execution_count": 12,
   "id": "e9946725",
   "metadata": {},
   "outputs": [
    {
     "name": "stdout",
     "output_type": "stream",
     "text": [
      "Matrix Products\n",
      "[[3 1]\n",
      " [5 3]]\n",
      "To cross-check\n",
      "[[3 1]\n",
      " [5 3]]\n",
      "Matrix addition\n",
      "[[4 1]\n",
      " [3 3]]\n",
      "Matrix Subtraction\n",
      "[[-2 -1]\n",
      " [-1 -1]]\n"
     ]
    }
   ],
   "source": [
    "#To generate a matrix prroducts of two arrays\n",
    "import numpy as np\n",
    "x=np.array([[1,0],[1,1]])\n",
    "y=np.array([[3,1],[2,2]])\n",
    "print(\"Matrix Products\")\n",
    "print(np.dot(x,y))\n",
    "print(\"To cross-check\")\n",
    "print(np.matmul(x,y))\n",
    "print(\"Matrix addition\")\n",
    "print(np.add(x,y))\n",
    "print(\"Matrix Subtraction\")\n",
    "print(np.subtract(x,y))"
   ]
  },
  {
   "cell_type": "code",
   "execution_count": 1,
   "id": "50c1d41b",
   "metadata": {},
   "outputs": [
    {
     "name": "stdout",
     "output_type": "stream",
     "text": [
      "30.0\n"
     ]
    }
   ],
   "source": [
    "#To find mean of an array\n",
    "import numpy as np\n",
    "arr=np.array([10,20,30,40,50])\n",
    "print(np.mean(arr))"
   ]
  },
  {
   "cell_type": "code",
   "execution_count": 5,
   "id": "5efe5d20",
   "metadata": {},
   "outputs": [
    {
     "name": "stdout",
     "output_type": "stream",
     "text": [
      "[[10 30]\n",
      " [20 60]]\n",
      "Mean of Each Column\n",
      "[15. 45.]\n",
      "Mean of Each Rows\n",
      "[20. 40.]\n"
     ]
    }
   ],
   "source": [
    "#To find mean of axis of an array\n",
    "import numpy as np\n",
    "arr=np.array([[10,30],[20,60]])\n",
    "print(arr)\n",
    "print(\"Mean of Each Column\")\n",
    "print(arr.mean(axis=0))\n",
    "print(\"Mean of Each Rows\")\n",
    "print(arr.mean(axis=1))"
   ]
  },
  {
   "cell_type": "code",
   "execution_count": 2,
   "id": "c4fbe4ca",
   "metadata": {},
   "outputs": [
    {
     "name": "stdout",
     "output_type": "stream",
     "text": [
      "[0 1 2 3 4 5 6 7 8 9]\n"
     ]
    }
   ],
   "source": [
    "#To create an array in a range\n",
    "import numpy as np\n",
    "arr=np.arange(0,10)\n",
    "print(arr)"
   ]
  },
  {
   "cell_type": "code",
   "execution_count": 17,
   "id": "fc87792a",
   "metadata": {},
   "outputs": [
    {
     "name": "stdout",
     "output_type": "stream",
     "text": [
      "Original 1D array:\n",
      "[10 20 30 40 50 60]\n",
      "2D aray thus created:\n",
      "[[10 20 30]\n",
      " [40 50 60]]\n",
      "3D array created:\n",
      "[[[10 20]]\n",
      "\n",
      " [[30 40]]\n",
      "\n",
      " [[50 60]]]\n"
     ]
    }
   ],
   "source": [
    "#To convert 1D array to 2D array\n",
    "import numpy as np\n",
    "arr=np.array([10,20,30,40,50,60])\n",
    "arr_2D=arr.reshape(2,3)\n",
    "arr_3D=arr.reshape(3,1,2)\n",
    "print(\"Original 1D array:\")\n",
    "print(arr)\n",
    "print(\"2D aray thus created:\")\n",
    "print(arr_2D)\n",
    "print(\"3D array created:\")\n",
    "print(arr_3D)"
   ]
  }
 ],
 "metadata": {
  "kernelspec": {
   "display_name": "Python 3 (ipykernel)",
   "language": "python",
   "name": "python3"
  },
  "language_info": {
   "codemirror_mode": {
    "name": "ipython",
    "version": 3
   },
   "file_extension": ".py",
   "mimetype": "text/x-python",
   "name": "python",
   "nbconvert_exporter": "python",
   "pygments_lexer": "ipython3",
   "version": "3.12.3"
  }
 },
 "nbformat": 4,
 "nbformat_minor": 5
}
