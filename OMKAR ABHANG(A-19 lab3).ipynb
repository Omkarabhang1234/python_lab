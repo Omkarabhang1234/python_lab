{
 "cells": [
  {
   "cell_type": "code",
   "execution_count": 20,
   "id": "aa2e4bb1",
   "metadata": {},
   "outputs": [
    {
     "name": "stdout",
     "output_type": "stream",
     "text": [
      "DICTIONARY OPERATIONS\n",
      "{1: 'Python', 2: 'Java', 3: 'C++', 4: 'C'}\n",
      "Accessing the elements\n",
      "C++\n",
      "Changing and Adding elements\n",
      "{1: 'Python', 2: 'Java', 3: 'C++', 4: 'Ruby'}\n",
      "{1: 'Python', 2: 'Java', 3: 'C++', 4: 'Ruby', 5: 'HTML'}\n",
      "{1: 1, 2: 4, 3: 9, 4: 16, 5: 25}\n",
      "Removing elements\n",
      "9\n",
      "(5, 25)\n",
      "{1: 1, 2: 4, 4: 16}\n",
      "None\n",
      "{}\n",
      "Duplicating Dictionary\n",
      "{1: 'Python', 2: 'Java', 3: 'C++', 4: 'Ruby', 5: 'HTML'}\n",
      "List of Dictionary\n",
      "dict_items([(1, 'Python'), (2, 'Java'), (3, 'C++'), (4, 'Ruby'), (5, 'HTML')])\n",
      "dict_keys([1, 2, 3, 4, 5])\n",
      "Updating Dictionary\n",
      "{1: 'Python3', 2: 'Java', 3: 'C++', 4: 'Ruby', 5: 'HTML', 6: 'PHP'}\n",
      "Fromkeys of Dictionary\n",
      "{'Apple': 100, 'MAcbook': 100, 'Android': 100}\n"
     ]
    }
   ],
   "source": [
    "print(\"DICTIONARY OPERATIONS\")\n",
    "dict1={1:\"Python\",2:\"Java\",3:\"C++\",4:'C'}\n",
    "print(dict1)\n",
    "print(\"Accessing the elements\")\n",
    "print(dict1[3])\n",
    "print(\"Changing and Adding elements\")\n",
    "dict1[4]=\"Ruby\"\n",
    "print(dict1)\n",
    "dict1[5]=\"HTML\"\n",
    "print(dict1)\n",
    "dict2={1:1,2:4,3:9,4:16,5:25}\n",
    "print(dict2)\n",
    "print(\"Removing elements\")\n",
    "print(dict2.pop(3))\n",
    "print(dict2.popitem())\n",
    "print(dict2)\n",
    "print(dict2.clear())\n",
    "print(dict2)\n",
    "del dict2\n",
    "print(\"Duplicating Dictionary\")\n",
    "mydis=dict1.copy()\n",
    "print(mydis)\n",
    "print(\"List of Dictionary\")\n",
    "print(mydis.items())\n",
    "allkeys=dict1.keys()\n",
    "print(allkeys)\n",
    "print(\"Updating Dictionary\")\n",
    "dict3={1:\"Python3\",6:\"PHP\",}\n",
    "dict1.update(dict3)\n",
    "print(dict1)\n",
    "print(\"Fromkeys of Dictionary\")\n",
    "seq=(\"Apple\",\"MAcbook\",\"Android\")\n",
    "mydict=dict1.fromkeys(seq,100)\n",
    "print(mydict)"
   ]
  },
  {
   "cell_type": "code",
   "execution_count": null,
   "id": "7f2e703e",
   "metadata": {},
   "outputs": [],
   "source": []
  }
 ],
 "metadata": {
  "kernelspec": {
   "display_name": "Python 3 (ipykernel)",
   "language": "python",
   "name": "python3"
  },
  "language_info": {
   "codemirror_mode": {
    "name": "ipython",
    "version": 3
   },
   "file_extension": ".py",
   "mimetype": "text/x-python",
   "name": "python",
   "nbconvert_exporter": "python",
   "pygments_lexer": "ipython3",
   "version": "3.9.12"
  }
 },
 "nbformat": 4,
 "nbformat_minor": 5
}
