{
 "cells": [
  {
   "cell_type": "code",
   "execution_count": 11,
   "id": "a84f7f2f",
   "metadata": {},
   "outputs": [
    {
     "name": "stdout",
     "output_type": "stream",
     "text": [
      "Numbers divisible by 2 are:\n",
      "[2, 4, 6, 8, 10, 12, 14, 16, 18, 20, 22, 24, 26, 28, 30, 32, 34, 36, 38, 40, 42, 44, 46, 48, 50, 52, 54, 56, 58, 60, 62, 64, 66, 68, 70, 72, 74, 76, 78, 80, 82, 84, 86, 88, 90, 92, 94, 96, 98, 100] \n",
      "\n",
      "Numbers divisible by 2 are:\n",
      "[3, 6, 9, 12, 15, 18, 21, 24, 27, 30, 33, 36, 39, 42, 45, 48, 51, 54, 57, 60, 63, 66, 69, 72, 75, 78, 81, 84, 87, 90, 93, 96, 99]\n"
     ]
    }
   ],
   "source": [
    "#LIST COMPREHENSION\n",
    "num=[num for num in range(1,101) if num%2==0]\n",
    "print(\"Numbers divisible by 2 are:\")\n",
    "print(num,'\\n')\n",
    "num=[num for num in range(1,101) if num%3==0]\n",
    "print(\"Numbers divisible by 2 are:\")\n",
    "print(num)"
   ]
  },
  {
   "cell_type": "code",
   "execution_count": 13,
   "id": "d4736752",
   "metadata": {},
   "outputs": [
    {
     "name": "stdout",
     "output_type": "stream",
     "text": [
      "[100, 99, 98, 97, 96, 95, 94, 93, 92, 91, 90, 89, 88, 87, 86, 85, 84, 83, 82, 81, 80, 79, 78, 77, 76, 75, 74, 73, 72, 71, 70, 69, 68, 67, 66, 65, 64, 63, 62, 61, 60, 59, 58, 57, 56, 55, 54, 53, 52, 51, 50, 49, 48, 47, 46, 45, 44, 43, 42, 41, 40, 39, 38, 37, 36, 35, 34, 33, 32, 31, 30, 29, 28, 27, 26, 25, 24, 23, 22, 21, 20, 19, 18, 17, 16, 15, 14, 13, 12, 11, 10, 9, 8, 7, 6, 5, 4, 3, 2, 1] \n",
      "\n",
      "Numbers divisible by 7 are:\n",
      "[98, 91, 84, 77, 70, 63, 56, 49, 42, 35, 28, 21, 14, 7]\n"
     ]
    }
   ],
   "source": [
    "#Reverse LIST\n",
    "num=[num for num in range(100,0,-1)]\n",
    "print(num,'\\n')\n",
    "num=[num for num in range(100,0,-1) if num%7==0]\n",
    "print(\"Numbers divisible by 7 are:\")\n",
    "print(num)"
   ]
  },
  {
   "cell_type": "code",
   "execution_count": 15,
   "id": "003f08b2",
   "metadata": {
    "scrolled": true
   },
   "outputs": [
    {
     "name": "stdout",
     "output_type": "stream",
     "text": [
      "Squares of even numbers are:\n",
      "[0, 4, 16, 36, 64, 100]\n"
     ]
    }
   ],
   "source": [
    "square=[square*square for square in range(0,11) if square%2==0]\n",
    "print(\"Squares of even numbers are:\")\n",
    "print(square)"
   ]
  },
  {
   "cell_type": "code",
   "execution_count": 24,
   "id": "96659f1d",
   "metadata": {},
   "outputs": [
    {
     "name": "stdout",
     "output_type": "stream",
     "text": [
      "Enter number of keys4\n",
      "Keys are:\n",
      "a\n",
      "b\n",
      "c\n",
      "d\n",
      "Values are:\n",
      "1\n",
      "2\n",
      "3\n",
      "4\n",
      "{'a': 1, 'b': 2, 'c': 3, 'd': 4}\n"
     ]
    }
   ],
   "source": [
    "#CREATE A DICTIONARY\n",
    "n=int(input(\"Enter number of keys\"))\n",
    "print(\"Keys are:\")\n",
    "keys=[input() for keys in range(n)]\n",
    "print(\"Values are:\")\n",
    "values=[int(input()) for values in range(n)]\n",
    "dict1={keys[i]:values[i] for i in range(n)}\n",
    "print(dict1)\n"
   ]
  },
  {
   "cell_type": "code",
   "execution_count": 4,
   "id": "7c5ab503",
   "metadata": {},
   "outputs": [
    {
     "name": "stdout",
     "output_type": "stream",
     "text": [
      "Enter number of keys5\n",
      "Keys are:\n",
      "1\n",
      "2\n",
      "3\n",
      "4\n",
      "5\n",
      "{0: 0, 1: 1, 2: 4, 3: 9, 4: 16}\n"
     ]
    }
   ],
   "source": [
    "#CREATE A DICTIONARY OF SQUARES\n",
    "n=int(input(\"Enter number of keys\"))\n",
    "print(\"Keys are:\")\n",
    "keys=[int(input()) for keys in range(n)]\n",
    "dict1={keys:keys**2 for keys in range(len(keys))}\n",
    "print(dict1)\n"
   ]
  },
  {
   "cell_type": "code",
   "execution_count": 10,
   "id": "89eb44c0",
   "metadata": {},
   "outputs": [
    {
     "name": "stdout",
     "output_type": "stream",
     "text": [
      "{100: 10.0, 99: 9.9498743710662, 98: 9.899494936611665, 97: 9.848857801796104, 96: 9.797958971132712, 95: 9.746794344808963, 94: 9.695359714832659, 93: 9.643650760992955, 92: 9.591663046625438, 91: 9.539392014169456, 90: 9.486832980505138, 89: 9.433981132056603, 88: 9.38083151964686, 87: 9.327379053088816, 86: 9.273618495495704, 85: 9.219544457292887, 84: 9.16515138991168, 83: 9.1104335791443, 82: 9.055385138137417, 81: 9.0, 80: 8.94427190999916, 79: 8.888194417315589, 78: 8.831760866327848, 77: 8.774964387392123, 76: 8.717797887081348, 75: 8.660254037844387, 74: 8.602325267042627, 73: 8.54400374531753, 72: 8.48528137423857, 71: 8.426149773176359, 70: 8.366600265340756, 69: 8.306623862918075, 68: 8.246211251235321, 67: 8.18535277187245, 66: 8.12403840463596, 65: 8.06225774829855, 64: 8.0, 63: 7.937253933193772, 62: 7.874007874011811, 61: 7.810249675906654, 60: 7.745966692414834, 59: 7.681145747868608, 58: 7.615773105863909, 57: 7.54983443527075, 56: 7.483314773547883, 55: 7.416198487095663, 54: 7.3484692283495345, 53: 7.280109889280518, 52: 7.211102550927978, 51: 7.14142842854285, 50: 7.0710678118654755, 49: 7.0, 48: 6.928203230275509, 47: 6.855654600401044, 46: 6.782329983125268, 45: 6.708203932499369, 44: 6.6332495807108, 43: 6.557438524302, 42: 6.48074069840786, 41: 6.4031242374328485, 40: 6.324555320336759, 39: 6.244997998398398, 38: 6.164414002968976, 37: 6.082762530298219, 36: 6.0, 35: 5.916079783099616, 34: 5.830951894845301, 33: 5.744562646538029, 32: 5.656854249492381, 31: 5.5677643628300215, 30: 5.477225575051661, 29: 5.385164807134504, 28: 5.291502622129181, 27: 5.196152422706632, 26: 5.0990195135927845, 25: 5.0, 24: 4.898979485566356, 23: 4.795831523312719, 22: 4.69041575982343, 21: 4.58257569495584, 20: 4.47213595499958, 19: 4.358898943540674, 18: 4.242640687119285, 17: 4.123105625617661, 16: 4.0, 15: 3.872983346207417, 14: 3.7416573867739413, 13: 3.605551275463989, 12: 3.4641016151377544, 11: 3.3166247903554, 10: 3.1622776601683795, 9: 3.0, 8: 2.8284271247461903, 7: 2.6457513110645907, 6: 2.449489742783178, 5: 2.23606797749979, 4: 2.0, 3: 1.7320508075688772, 2: 1.4142135623730951, 1: 1.0}\n"
     ]
    }
   ],
   "source": [
    "#CREATE A DICTIONARY OF SQUAREROOTS\n",
    "import math\n",
    "dict1={x:math.sqrt(x) for x in range(100,0,-1)}\n",
    "print(dict1)"
   ]
  },
  {
   "cell_type": "code",
   "execution_count": 3,
   "id": "39bd7dae",
   "metadata": {},
   "outputs": [
    {
     "name": "stdout",
     "output_type": "stream",
     "text": [
      "Developers having Python are:\n",
      "{'Jane': 'Python', 'John': 'Python'}\n"
     ]
    }
   ],
   "source": [
    "#CREATE A DICTIONARY OF DEVELOPERS\n",
    "developers={'Jane': 'Python', 'Jade': 'Javascript', 'John': 'Python', 'Doe': 'Javascript'}\n",
    "print(\"Developers having Python are:\")\n",
    "dict2={key:developers[key] for key in developers if developers[key]=='Python'}\n",
    "print(dict2)"
   ]
  },
  {
   "cell_type": "code",
   "execution_count": 8,
   "id": "fc664f76",
   "metadata": {},
   "outputs": [
    {
     "name": "stdout",
     "output_type": "stream",
     "text": [
      "Ubuntu Admins are:\n",
      "{'Alice': 'Ubuntu', 'Charlie': 'Ubuntu', 'Eve': 'Ubuntu'}\n",
      "Windows Admins are:\n",
      "{'Bob': 'Windows'}\n"
     ]
    }
   ],
   "source": [
    "#CREATE A DICTIONARY OF ADMINS\n",
    "admins={'Alice': 'Ubuntu', 'Bob': 'Windows', 'Charlie': 'Ubuntu', 'David': 'MacOS', 'Eve' : 'Ubuntu'}\n",
    "print(\"Ubuntu Admins are:\")\n",
    "dict2={key:admins[key] for key in admins if admins[key]=='Ubuntu'}\n",
    "print(dict2)\n",
    "print(\"Windows Admins are:\")\n",
    "dict2={key:admins[key] for key in admins if admins[key]=='Windows'}\n",
    "print(dict2)"
   ]
  },
  {
   "cell_type": "code",
   "execution_count": null,
   "id": "38a5c636",
   "metadata": {},
   "outputs": [],
   "source": []
  }
 ],
 "metadata": {
  "kernelspec": {
   "display_name": "Python 3 (ipykernel)",
   "language": "python",
   "name": "python3"
  },
  "language_info": {
   "codemirror_mode": {
    "name": "ipython",
    "version": 3
   },
   "file_extension": ".py",
   "mimetype": "text/x-python",
   "name": "python",
   "nbconvert_exporter": "python",
   "pygments_lexer": "ipython3",
   "version": "3.12.3"
  }
 },
 "nbformat": 4,
 "nbformat_minor": 5
}
