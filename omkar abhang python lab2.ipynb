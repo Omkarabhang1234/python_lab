{
 "cells": [
  {
   "cell_type": "code",
   "execution_count": 1,
   "id": "c228a7a3-5097-4db2-b159-9c1c67017c9e",
   "metadata": {},
   "outputs": [
    {
     "name": "stdout",
     "output_type": "stream",
     "text": [
      "the value of 56 + 3 is: 64\n"
     ]
    }
   ],
   "source": [
    "a=56\n",
    "b=8\n",
    "\n",
    "print(\"the value of\",a,\"+\",3,\"is:\",a+b)\n"
   ]
  },
  {
   "cell_type": "code",
   "execution_count": 5,
   "id": "0bde1f94-057f-499b-a40b-95ca28c40428",
   "metadata": {},
   "outputs": [
    {
     "name": "stdout",
     "output_type": "stream",
     "text": [
      "the value of 56 + 3 is: 48\n",
      "the value of 56 - 3 is: 448\n",
      "the value of 56 % 3 is: 0\n",
      "the value of 56 > 3 is: True\n",
      "the value of 56 < 3 is: False\n"
     ]
    }
   ],
   "source": [
    "print(\"the value of\",a,\"+\",3,\"is:\",a-b)\n",
    "print(\"the value of\",a,\"-\",3,\"is:\",a*b)\n",
    "print(\"the value of\",a,\"%\",3,\"is:\",a%b)\n",
    "print(\"the value of\",a,\">\",3,\"is:\",a>b)\n",
    "print(\"the value of\",a,\"<\",3,\"is:\",a<b)\n"
   ]
  },
  {
   "cell_type": "code",
   "execution_count": null,
   "id": "9905fa6d-1232-4415-9d7d-f02ec0ddcd99",
   "metadata": {},
   "outputs": [],
   "source": []
  }
 ],
 "metadata": {
  "kernelspec": {
   "display_name": "Python 3 (ipykernel)",
   "language": "python",
   "name": "python3"
  },
  "language_info": {
   "codemirror_mode": {
    "name": "ipython",
    "version": 3
   },
   "file_extension": ".py",
   "mimetype": "text/x-python",
   "name": "python",
   "nbconvert_exporter": "python",
   "pygments_lexer": "ipython3",
   "version": "3.12.4"
  }
 },
 "nbformat": 4,
 "nbformat_minor": 5
}
